{
 "cells": [
  {
   "cell_type": "markdown",
   "metadata": {},
   "source": [
    "# Text2Flat\n",
    "Take arbitrary columns of data and determine which are registration data.\n",
    "## Method\n",
    "Discover each field type using decision tree recursively.\n",
    "\n",
    "Test each field starting with easiest (email) to hardest data type (first name).\n",
    "Reduce the array until unidentifyable information is left or all the data needed for a well-formed registration\n",
    "is collected.               \n",
    "    "
   ]
  },
  {
   "cell_type": "code",
   "execution_count": 1,
   "metadata": {},
   "outputs": [
    {
     "name": "stdout",
     "output_type": "stream",
     "text": [
      "test_data BEFORE: ['1234, 567 Ave.', 'Edmonton', 'Ab.', 'T6G 0G4', 'Bisland-Jones', 'example@company1.com', 'Harold', 'Customer note', '(780)-555-1212', 'Male']\n",
      "email: \"example@company1.com\"\n",
      "test_data AFTER: ['1234, 567 Ave.', 'Edmonton', 'Ab.', 'T6G 0G4', 'Bisland-Jones', 'Harold', 'Customer note', '(780)-555-1212', 'Male']\n"
     ]
    }
   ],
   "source": [
    "import re\n",
    "test_data = ['1234, 567 Ave.', 'Edmonton', 'Ab.', 'T6G 0G4', 'Bisland-Jones', 'example@company1.com','Harold', 'Customer note', '(780)-555-1212', 'Male']\n",
    "\n",
    "registration_fields = ['email', 'fname', 'lname', 'street', 'pcode', 'city', 'province', 'gender', 'phone', 'note']\n",
    "data_fields = {}\n",
    "\n",
    "def get_mail(data):\n",
    "    email_regex = '^(\\w|\\.|\\_|\\-)+[@](\\w|\\_|\\-|\\.)+[.]\\w{2,3}$'\n",
    "    for d in test_data:\n",
    "        result = re.match(email_regex, d)\n",
    "        if result:\n",
    "            test_data.remove(d)\n",
    "            return d\n",
    "        \n",
    "def get_pcode(data):\n",
    "    pcode_regex = '^[a-zA-Z]\\d[a-zA-Z](\\s{1,})?\\d[a-zA-Z]\\d$'\n",
    "\n",
    "print('test_data BEFORE: {0}'.format(test_data))\n",
    "data_fields['email'] = get_mail(test_data);\n",
    "print('email: \"{0}\"'.format(data_fields['email']))\n",
    "print('test_data AFTER: {0}'.format(test_data))"
   ]
  },
  {
   "cell_type": "code",
   "execution_count": null,
   "metadata": {},
   "outputs": [],
   "source": []
  }
 ],
 "metadata": {
  "kernelspec": {
   "display_name": "Python 3",
   "language": "python",
   "name": "python3"
  },
  "language_info": {
   "codemirror_mode": {
    "name": "ipython",
    "version": 3
   },
   "file_extension": ".py",
   "mimetype": "text/x-python",
   "name": "python",
   "nbconvert_exporter": "python",
   "pygments_lexer": "ipython3",
   "version": "3.8.3"
  }
 },
 "nbformat": 4,
 "nbformat_minor": 4
}
