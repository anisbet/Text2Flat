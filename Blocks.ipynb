{
 "cells": [
  {
   "cell_type": "markdown",
   "metadata": {},
   "source": [
    "# Test Block Processing\n",
    "Flat files have blocks that have a start and end tag.\n"
   ]
  },
  {
   "cell_type": "code",
   "execution_count": 4,
   "metadata": {},
   "outputs": [
    {
     "name": "stdout",
     "output_type": "stream",
     "text": [
      ".name.   |aAndrew\n",
      ".USER_ADDR_START.\n",
      ".street.   |a11535 74 Ave.\n",
      ".USER_ADDR_END.\n"
     ]
    }
   ],
   "source": [
    "block1 = {}\n",
    "fields = {'street': block1}\n",
    "c_data = {'name':'Andrew','street':'11535 74 Ave.'}\n",
    "\n",
    "for field in c_data.keys():\n",
    "    b = fields.get(field)\n",
    "    if b != None:\n",
    "        b[field] = c_data.get(field)\n",
    "    else:\n",
    "        print(f\".{field}.   |a{c_data.get(field)}\")\n",
    "\n",
    "        \n",
    "if len(block1) > 0:\n",
    "    print(f\".USER_ADDR_START.\")\n",
    "    for key in block1.keys():\n",
    "        print(f\".{key}.   |a{block1.get(key)}\")\n",
    "    else:\n",
    "        print(f\".USER_ADDR_END.\")"
   ]
  },
  {
   "cell_type": "code",
   "execution_count": null,
   "metadata": {},
   "outputs": [],
   "source": []
  }
 ],
 "metadata": {
  "kernelspec": {
   "display_name": "Python 3",
   "language": "python",
   "name": "python3"
  },
  "language_info": {
   "codemirror_mode": {
    "name": "ipython",
    "version": 3
   },
   "file_extension": ".py",
   "mimetype": "text/x-python",
   "name": "python",
   "nbconvert_exporter": "python",
   "pygments_lexer": "ipython3",
   "version": "3.8.3"
  }
 },
 "nbformat": 4,
 "nbformat_minor": 4
}
