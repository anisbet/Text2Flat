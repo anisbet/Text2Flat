{
 "cells": [
  {
   "cell_type": "code",
   "execution_count": 14,
   "metadata": {},
   "outputs": [
    {
     "name": "stdout",
     "output_type": "stream",
     "text": [
      "found: 'Cres' in '1277 Elgin Cres.'.\n"
     ]
    }
   ],
   "source": [
    "arr: list = ['Andrew', '123 456 street, edmonton', '1277 Elgin Cres.']\n",
    "roads: list = ['Cres', 'Cresant', 'Road', 'lane']\n",
    "for i in range(len(arr)):\n",
    "    for j in range(len(roads)):\n",
    "        if roads[j] in arr[i]:\n",
    "            print(f\"found: '{roads[j]}' in '{arr[i]}'.\")\n",
    "            break\n",
    "        else:\n",
    "            # print(f\"no found: '{roads[j]}' in '{arr[i]}'. Dang.\")\n",
    "            continue\n",
    "        break\n",
    "    else:\n",
    "        continue\n",
    "    break"
   ]
  },
  {
   "cell_type": "code",
   "execution_count": 15,
   "metadata": {},
   "outputs": [
    {
     "name": "stdout",
     "output_type": "stream",
     "text": [
      "first 5 first-names in the corpus: ['Avenue', 'Crescent', 'Close', 'Circus', 'Dene']\n",
      "nope\n",
      "nope\n",
      "nope\n"
     ]
    }
   ],
   "source": [
    "import re\n",
    "data: list = ['Andrew', '123 456 street, edmonton', '1277 Elgin Cres.']\n",
    "lines = open('street_corpus.txt').readlines()\n",
    "corpus: list = []\n",
    "for line in lines:\n",
    "    corpus.append(line.rstrip(os.linesep))\n",
    "print(f\"first 5 first-names in the corpus: {corpus[0:5]}\")\n",
    "\n",
    "for col in data:\n",
    "    if re.match(street, col):\n",
    "        print(f\"yep found '{street}\")\n",
    "        break\n",
    "    else:\n",
    "        print(f\"nope\")"
   ]
  }
 ],
 "metadata": {
  "kernelspec": {
   "display_name": "Python 3.8.3 ('base')",
   "language": "python",
   "name": "python3"
  },
  "language_info": {
   "codemirror_mode": {
    "name": "ipython",
    "version": 3
   },
   "file_extension": ".py",
   "mimetype": "text/x-python",
   "name": "python",
   "nbconvert_exporter": "python",
   "pygments_lexer": "ipython3",
   "version": "3.8.3"
  },
  "vscode": {
   "interpreter": {
    "hash": "53f086f7dd1b045d72b265b5ea1aaa0151bed0266d6b26968b3361eaef2a2afd"
   }
  }
 },
 "nbformat": 4,
 "nbformat_minor": 4
}
