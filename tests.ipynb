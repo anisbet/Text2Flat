{
 "cells": [
  {
   "cell_type": "code",
   "execution_count": 1,
   "metadata": {},
   "outputs": [
    {
     "name": "stdout",
     "output_type": "stream",
     "text": [
      "INSERT INTO MetaData (fname,lname,street,pcode,email,dob,phone,province,country,school,care_of) VALUES (1,1,1,1,1,2,2,2,2,3,3);\n"
     ]
    }
   ],
   "source": [
    "table = 'MetaData'\n",
    "fields={'fname': 1, 'lname': 1, 'street': 1, 'pcode':1, 'email': 1, 'dob': 2,\n",
    "        'phone': 2, 'province': 2, 'country': 2, 'school': 3, 'care_of': 3}\n",
    "names: list = [*fields]\n",
    "ordered_values: list = []\n",
    "for value in names:\n",
    "    ordered_values.append(str(fields[value]))\n",
    "print(\"INSERT INTO {} ({}) VALUES ({});\".format(table, ','.join(names), ','.join(ordered_values)))"
   ]
  },
  {
   "cell_type": "code",
   "execution_count": 18,
   "metadata": {},
   "outputs": [
    {
     "name": "stdout",
     "output_type": "stream",
     "text": [
      "2020-11-15 21:28:08.968595\n",
      "20201115\n"
     ]
    }
   ],
   "source": [
    "import datetime\n",
    "import re\n",
    "start_date = datetime.datetime.now() - datetime.timedelta(30)\n",
    "print(start_date)\n",
    "month_ago_yyyymmdd = ''.join( c for c in str(start_date) if c not in '-' )[0:8]\n",
    "print(\"{}\".format(month_ago_yyyymmdd))"
   ]
  },
  {
   "cell_type": "code",
   "execution_count": null,
   "metadata": {},
   "outputs": [],
   "source": []
  }
 ],
 "metadata": {
  "kernelspec": {
   "display_name": "Python 3",
   "language": "python",
   "name": "python3"
  },
  "language_info": {
   "codemirror_mode": {
    "name": "ipython",
    "version": 3
   },
   "file_extension": ".py",
   "mimetype": "text/x-python",
   "name": "python",
   "nbconvert_exporter": "python",
   "pygments_lexer": "ipython3",
   "version": "3.8.3"
  }
 },
 "nbformat": 4,
 "nbformat_minor": 4
}
