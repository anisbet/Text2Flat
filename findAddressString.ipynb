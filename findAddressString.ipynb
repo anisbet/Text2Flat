{
 "cells": [
  {
   "cell_type": "code",
   "execution_count": 145,
   "metadata": {},
   "outputs": [
    {
     "name": "stdout",
     "output_type": "stream",
     "text": [
      "found: 'Cres' in '1277 Elgin Cres.'.\n"
     ]
    }
   ],
   "source": [
    "arr: list = ['Andrew', '123 456 street, edmonton', '1277 Elgin Cres.']\n",
    "roads: list = ['Cres', 'Cresant', 'Road', 'lane']\n",
    "for i in range(len(arr)):\n",
    "    for j in range(len(roads)):\n",
    "        if roads[j] in arr[i]:\n",
    "            print(f\"found: '{roads[j]}' in '{arr[i]}'.\")\n",
    "            break\n",
    "        else:\n",
    "            # print(f\"no found: '{roads[j]}' in '{arr[i]}'. Dang.\")\n",
    "            continue\n",
    "        break\n",
    "    else:\n",
    "        continue\n",
    "    break"
   ]
  },
  {
   "cell_type": "code",
   "execution_count": 45,
   "metadata": {},
   "outputs": [
    {
     "name": "stdout",
     "output_type": "stream",
     "text": [
      "['', 'Morris', '123 456 feet tall - tall for Edmonton', '1277 Elgin Cres.', '109-125 street', 'Minor', 'RR 19']\n",
      "#0 of 7\n",
      "#1 of 7\n",
      "#2 of 7\n",
      "found address with regex: '123 456 feet tall - tall for Edmonton'\n",
      "#3 of 7\n",
      "found address with regex: '1277 Elgin Cres.'\n",
      "found address with corpus search: on '1277 Elgin Cres.'\n",
      "#4 of 7\n",
      "found address with regex: '109-125 street'\n",
      "#5 of 7\n",
      "#6 of 7\n",
      "found address with corpus search: on 'RR 19'\n",
      "Searched 0 entries.\n"
     ]
    }
   ],
   "source": [
    "import re\n",
    "import os\n",
    "address_regex = r\"(\\d{1,}-?|\\s+)+(\\w{2,}\\.?|-?\\s?)+\"\n",
    "data: list = ['','Morris', '123 456 feet tall - tall for Edmonton', '1277 Elgin Cres.',  '109-125 street', 'Minor', 'RR 19']\n",
    "f = open('street_corpus.txt')\n",
    "corpus: list = []\n",
    "for line in f.readlines():\n",
    "    corpus.append(line.rstrip(os.linesep))\n",
    "# print(f\"Read {len(corpus)} lines\")\n",
    "# print(f\"first 5 first-names in the corpus: {corpus[0:5]}\")\n",
    "print(f\"{data}\")\n",
    "# yadaYada = 0\n",
    "# whichCol = 0\n",
    "count = 0\n",
    "for idx, d in enumerate(data):\n",
    "    print(f\"#{idx} of {len(data)}\")\n",
    "    if re.match(address_regex, d):\n",
    "        print(f\"found address with regex: '{d}'\")\n",
    "#     else:\n",
    "#         print(f\"NOT found with regex '{d}'\")\n",
    "    for streetType in corpus:\n",
    "        # yadaYada += 1\n",
    "        # if yadaYada <= 5:\n",
    "        #     print(f\"Searching for '{streetType}' in '{d}'.\")\n",
    "        whichCol = re.search(streetType, d)\n",
    "        if whichCol != None:\n",
    "            print(f\"found address with corpus search: on '{d}'\")\n",
    "#             break\n",
    "#     else:\n",
    "#         count += 1\n",
    "#         continue\n",
    "#     break\n",
    "    \n",
    "print(f\"Searched {count} entries.\")"
   ]
  },
  {
   "cell_type": "code",
   "execution_count": 46,
   "metadata": {},
   "outputs": [
    {
     "data": {
      "text/plain": [
       "{2, 7, 9}"
      ]
     },
     "execution_count": 46,
     "metadata": {},
     "output_type": "execute_result"
    }
   ],
   "source": [
    "# From: https://miguendes.me/python-compare-lists#heading-how-to-compare-two-lists-and-return-matches\n",
    "t1 = [2, 1, 0, 7, 4, 9, 3]\n",
    "\n",
    "t2 = [7, 6, 11, 12, 9, 23, 2]\n",
    "\n",
    "set(t1).intersection(set(t2))\n",
    "# {2, 7, 9}\n",
    "\n",
    "# the & operator is a shorthand for the set.intersection() method \n",
    "set(t1) & set(t2)\n",
    "# {2, 7, 9}\n"
   ]
  },
  {
   "cell_type": "code",
   "execution_count": 48,
   "metadata": {},
   "outputs": [
    {
     "name": "stdout",
     "output_type": "stream",
     "text": [
      "['', 'Morris', '123 456 feet tall - tall for Edmonton', '1277 Elgin Cres.', '109-125 Street', 'Minor', 'RR 19']\n",
      "I think item 3 contains an address: 1277 Elgin Cres.\n",
      "I think item 4 contains an address: 109-125 Street\n",
      "I think item 6 contains an address: RR 19\n"
     ]
    }
   ],
   "source": [
    "import re\n",
    "import os\n",
    "\n",
    "data: list = ['','Morris', '123 456 feet tall - tall for Edmonton', '1277 Elgin Cres.',  '109-125 Street', 'Minor', 'RR 19']\n",
    "f = open('street_corpus.txt')\n",
    "corpus: list = []\n",
    "for line in f.readlines():\n",
    "    corpus.append(line.rstrip(os.linesep))\n",
    "# print(f\"Read {len(corpus)} lines\")\n",
    "# print(f\"first 5 first-names in the corpus: {corpus[0:5]}\")\n",
    "print(f\"{data}\")\n",
    "for idx, d in enumerate(data):\n",
    "#     print(f\"#{idx} of {len(data)}\")\n",
    "    words = re.split(r'\\W+',d)\n",
    "    if len(set(words) & set(corpus)) > 0:\n",
    "        print(f\"I think item {idx} contains an address: {d}\")"
   ]
  },
  {
   "cell_type": "code",
   "execution_count": null,
   "metadata": {},
   "outputs": [],
   "source": []
  }
 ],
 "metadata": {
  "kernelspec": {
   "display_name": "Python 3",
   "language": "python",
   "name": "python3"
  },
  "language_info": {
   "codemirror_mode": {
    "name": "ipython",
    "version": 3
   },
   "file_extension": ".py",
   "mimetype": "text/x-python",
   "name": "python",
   "nbconvert_exporter": "python",
   "pygments_lexer": "ipython3",
   "version": "3.8.3"
  },
  "vscode": {
   "interpreter": {
    "hash": "53f086f7dd1b045d72b265b5ea1aaa0151bed0266d6b26968b3361eaef2a2afd"
   }
  }
 },
 "nbformat": 4,
 "nbformat_minor": 4
}
