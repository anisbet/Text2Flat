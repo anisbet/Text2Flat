{
 "cells": [
  {
   "cell_type": "code",
   "execution_count": 4,
   "metadata": {},
   "outputs": [
    {
     "name": "stdout",
     "output_type": "stream",
     "text": [
      "first 5 first-names in the corpus: ['a', 'aaada', 'aaaron', 'aaayu', 'aabel']\n",
      "yep found 'andrew'\n"
     ]
    }
   ],
   "source": [
    "import os\n",
    "lines = open('fname.txt').readlines()\n",
    "corpus: list = []\n",
    "for line in lines:\n",
    "    corpus.append(line.rstrip(os.linesep))\n",
    "print(f\"first 5 first-names in the corpus: {corpus[0:5]}\")\n",
    "for name in corpus:\n",
    "    if name == 'andrew':\n",
    "        print(\"yep found 'andrew'\")\n",
    "        break\n",
    "else:\n",
    "    print(\"nope\")"
   ]
  },
  {
   "cell_type": "code",
   "execution_count": 5,
   "metadata": {},
   "outputs": [
    {
     "name": "stdout",
     "output_type": "stream",
     "text": [
      "first 5 last-names in the corpus: ['a', 'aab', 'aabak', 'aabaslama', 'aabdulrhman']\n",
      "yep found 'malenfant'\n"
     ]
    }
   ],
   "source": [
    "lines = open('lname.txt').readlines()\n",
    "corpus: list = []\n",
    "for line in lines:\n",
    "    corpus.append(line.rstrip(os.linesep))\n",
    "print(f\"first 5 last-names in the corpus: {corpus[0:5]}\")\n",
    "for name in corpus:\n",
    "    if name == 'malenfant':\n",
    "        print(\"yep found 'malenfant'\")\n",
    "        break\n",
    "else:\n",
    "    print(\"nope\")"
   ]
  },
  {
   "cell_type": "code",
   "execution_count": null,
   "metadata": {},
   "outputs": [],
   "source": []
  }
 ],
 "metadata": {
  "kernelspec": {
   "display_name": "Python 3",
   "language": "python",
   "name": "python3"
  },
  "language_info": {
   "codemirror_mode": {
    "name": "ipython",
    "version": 3
   },
   "file_extension": ".py",
   "mimetype": "text/x-python",
   "name": "python",
   "nbconvert_exporter": "python",
   "pygments_lexer": "ipython3",
   "version": "3.8.3"
  }
 },
 "nbformat": 4,
 "nbformat_minor": 4
}
