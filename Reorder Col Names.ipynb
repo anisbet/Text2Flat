{
 "cells": [
  {
   "cell_type": "markdown",
   "metadata": {},
   "source": [
    "# Re-order Requested Fields\n",
    "Takes a list of words that are pre-defined in another list. Take the given list and order it so the easiest searches are completed first.\n",
    "\n",
    "Given a canonical list of names, enumerate the list and add the requested columns to it in a defined order."
   ]
  },
  {
   "cell_type": "code",
   "execution_count": 6,
   "metadata": {},
   "outputs": [
    {
     "name": "stdout",
     "output_type": "stream",
     "text": [
      "requested: ['b', 'e', 'a']\n",
      "re-ordered: ['a', 'b', 'e']\n"
     ]
    }
   ],
   "source": [
    "canonical_list = ['a', 'b', 'c', 'd', 'e']\n",
    "requested_list = ['b', 'e', 'a']\n",
    "ordered_list = []\n",
    "\n",
    "for c in canonical_list:\n",
    "    if c in requested_list:\n",
    "        ordered_list.append(c)\n",
    "        \n",
    "print(f\"requested: {requested_list}\")\n",
    "print(f\"re-ordered: {ordered_list}\")"
   ]
  },
  {
   "cell_type": "code",
   "execution_count": null,
   "metadata": {},
   "outputs": [],
   "source": []
  }
 ],
 "metadata": {
  "kernelspec": {
   "display_name": "Python 3",
   "language": "python",
   "name": "python3"
  },
  "language_info": {
   "codemirror_mode": {
    "name": "ipython",
    "version": 3
   },
   "file_extension": ".py",
   "mimetype": "text/x-python",
   "name": "python",
   "nbconvert_exporter": "python",
   "pygments_lexer": "ipython3",
   "version": "3.8.3"
  }
 },
 "nbformat": 4,
 "nbformat_minor": 4
}
